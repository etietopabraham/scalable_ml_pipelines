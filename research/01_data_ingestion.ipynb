{
 "cells": [
  {
   "cell_type": "markdown",
   "metadata": {},
   "source": [
    "The data ingestion stage verifies connection to HDFS, by reading sample data using Spark"
   ]
  },
  {
   "cell_type": "code",
   "execution_count": 1,
   "metadata": {},
   "outputs": [],
   "source": [
    "import os"
   ]
  },
  {
   "cell_type": "code",
   "execution_count": 2,
   "metadata": {},
   "outputs": [
    {
     "data": {
      "text/plain": [
       "'/Users/macbookpro/Documents/sclable_ml_pipelines/scalable_ml_pipelines/research'"
      ]
     },
     "execution_count": 2,
     "metadata": {},
     "output_type": "execute_result"
    }
   ],
   "source": [
    "%pwd"
   ]
  },
  {
   "cell_type": "code",
   "execution_count": 3,
   "metadata": {},
   "outputs": [],
   "source": [
    "os.chdir(\"../\")"
   ]
  },
  {
   "cell_type": "code",
   "execution_count": 4,
   "metadata": {},
   "outputs": [
    {
     "data": {
      "text/plain": [
       "'/Users/macbookpro/Documents/sclable_ml_pipelines/scalable_ml_pipelines'"
      ]
     },
     "execution_count": 4,
     "metadata": {},
     "output_type": "execute_result"
    }
   ],
   "source": [
    "%pwd"
   ]
  },
  {
   "cell_type": "markdown",
   "metadata": {},
   "source": [
    "Configuration holds address to HDFS file paths for our artifacts, root directory, data file and soure URL"
   ]
  },
  {
   "cell_type": "markdown",
   "metadata": {
    "vscode": {
     "languageId": "shellscript"
    }
   },
   "source": [
    "#Data Ingestion Configuration\n",
    "artifacts_root: hdfs:///geekradius/used_cars_project/\n",
    "\n",
    "data_ingestion:\n",
    "    root_dir: /geekradius/used_cars_project/data_ingestion/\n",
    "    hdfs_data_file: hdfs://localhost:9000/geekradius/used_cars_project/used_cars_data.csv\n",
    "    source_URL: https://www.kaggle.com/datasets/ananaymital/us-used-cars-dataset/download?datasetVersionNumber=1"
   ]
  },
  {
   "cell_type": "markdown",
   "metadata": {},
   "source": [
    "Entity"
   ]
  },
  {
   "cell_type": "code",
   "execution_count": 5,
   "metadata": {},
   "outputs": [],
   "source": [
    "from dataclasses import dataclass\n",
    "\n",
    "@dataclass(frozen=True)\n",
    "class DataIngestionConfig:\n",
    "    \"\"\"\n",
    "    Configuration for the data ingestion process.\n",
    "    \n",
    "    Attributes:\n",
    "    - root_dir: The directory where data ingestion artifacts should be stored.\n",
    "    - source_URL: The source URL from which the dataset is to be downloaded.\n",
    "    - hdfs_data_file: The path in HDFS where the ingested data file should be stored.\n",
    "    \"\"\"\n",
    "    \n",
    "    root_dir: str  # Directory for data ingestion related artifacts\n",
    "    source_URL: str  # URL for the source dataset\n",
    "    hdfs_data_file: str  # Path in HDFS for the ingested data\n"
   ]
  },
  {
   "cell_type": "markdown",
   "metadata": {},
   "source": [
    "ConfigurationManager"
   ]
  },
  {
   "cell_type": "code",
   "execution_count": 6,
   "metadata": {},
   "outputs": [],
   "source": [
    "from us_used_cars_ml_pipeline.constants import *\n",
    "from us_used_cars_ml_pipeline.utils.common import read_yaml\n",
    "from us_used_cars_ml_pipeline import logger\n",
    "\n",
    "from us_used_cars_ml_pipeline.entity.config_entity import DataIngestionConfig\n",
    "\n",
    "class ConfigurationManager:\n",
    "    def __init__(self, \n",
    "                 config_filepath=CONFIG_FILE_PATH, \n",
    "                 params_filepath=PARAMS_FILE_PATH, \n",
    "                 schema_filepath=SCHEMA_FILE_PATH):\n",
    "        \n",
    "        try:\n",
    "            self.config = read_yaml(config_filepath)\n",
    "        except Exception as e:\n",
    "            logger.error(f\"Error reading config file: {config_filepath}. Error: {e}\")\n",
    "            raise\n",
    "        \n",
    "        try:\n",
    "            self.params = read_yaml(params_filepath)\n",
    "        except Exception as e:\n",
    "            logger.error(f\"Error reading params file: {params_filepath}. Error: {e}\")\n",
    "            raise\n",
    "        \n",
    "        try:\n",
    "            self.schema = read_yaml(schema_filepath)\n",
    "        except Exception as e:\n",
    "            logger.error(f\"Error reading schema file: {schema_filepath}. Error: {e}\")\n",
    "            raise\n",
    "\n",
    "    def get_data_ingestion_config(self) -> DataIngestionConfig:\n",
    "        config = self.config.data_ingestion\n",
    "\n",
    "        data_ingestion_config = DataIngestionConfig(\n",
    "            root_dir=config.root_dir,\n",
    "            source_URL=config.source_URL,\n",
    "            hdfs_data_file=config.hdfs_data_file\n",
    "        )\n",
    "        return data_ingestion_config\n"
   ]
  },
  {
   "cell_type": "markdown",
   "metadata": {},
   "source": [
    "Components"
   ]
  },
  {
   "cell_type": "code",
   "execution_count": 7,
   "metadata": {},
   "outputs": [],
   "source": [
    "from pyspark.sql import SparkSession\n",
    "from pyspark.sql.dataframe import DataFrame\n",
    "from us_used_cars_ml_pipeline.entity.config_entity import DataIngestionConfig\n",
    "from us_used_cars_ml_pipeline import logger\n",
    "\n",
    "class DataIngestion:\n",
    "    \"\"\"\n",
    "    The DataIngestion component is responsible for managing the reading and ingestion \n",
    "    of data from HDFS. This class provides methods to read data from HDFS into Spark \n",
    "    DataFrame format. \n",
    "\n",
    "    Attributes:\n",
    "        config (DataIngestionConfig): Configuration parameters for data ingestion.\n",
    "\n",
    "    Note:\n",
    "        This class will be expanded in the future to support additional functionalities \n",
    "        related to data ingestion.\n",
    "    \"\"\"\n",
    "    \n",
    "    def __init__(self, config: DataIngestionConfig):\n",
    "        \"\"\"\n",
    "        Initializes the DataIngestion component with the given configuration.\n",
    "\n",
    "        Args:\n",
    "            config (DataIngestionConfig): Configuration parameters for data ingestion.\n",
    "        \"\"\"\n",
    "        self.config = config\n",
    "\n",
    "    def read_data_from_hdfs(self, spark: SparkSession) -> DataFrame:\n",
    "        \"\"\"\n",
    "        Reads data from HDFS and returns it as a DataFrame.\n",
    "\n",
    "        Args:\n",
    "            spark (SparkSession): Active SparkSession for data processing.\n",
    "\n",
    "        Returns:\n",
    "            DataFrame: Spark DataFrame containing the read data.\n",
    "\n",
    "        Raises:\n",
    "            Exception: If there's an error during the data reading process.\n",
    "        \"\"\"\n",
    "        try:\n",
    "            df = spark.read.csv(self.config.hdfs_data_file, header=True, inferSchema=True)\n",
    "            df.show()  # Display the first few rows of the DataFrame\n",
    "            return df\n",
    "        except Exception as e:\n",
    "            logger.error(f\"Failed to read data from HDFS. Error: {e}\")\n",
    "            raise e\n"
   ]
  },
  {
   "cell_type": "markdown",
   "metadata": {},
   "source": [
    "Pipeline"
   ]
  },
  {
   "cell_type": "code",
   "execution_count": 9,
   "metadata": {},
   "outputs": [
    {
     "name": "stdout",
     "output_type": "stream",
     "text": [
      "[2023-09-24 14:30:30,919: 44: us_used_cars_ml_pipeline_logger: INFO: common:  yaml file: config/config.yaml loaded successfully]\n",
      "[2023-09-24 14:30:30,927: 44: us_used_cars_ml_pipeline_logger: INFO: common:  yaml file: params.yaml loaded successfully]\n",
      "[2023-09-24 14:30:30,928: 44: us_used_cars_ml_pipeline_logger: INFO: common:  yaml file: schema.yaml loaded successfully]\n",
      "[2023-09-24 14:30:30,930: 47: us_used_cars_ml_pipeline_logger: INFO: 4090757948:  >>>>>> Stage: Data Ingestion State started <<<<<<]\n",
      "[2023-09-24 14:30:30,931: 29: us_used_cars_ml_pipeline_logger: INFO: 4090757948:  Fetching data ingestion configuration...]\n",
      "[2023-09-24 14:30:30,931: 32: us_used_cars_ml_pipeline_logger: INFO: 4090757948:  Initializing data ingestion process...]\n",
      "[2023-09-24 14:30:30,932: 35: us_used_cars_ml_pipeline_logger: INFO: 4090757948:  Reading data file...]\n"
     ]
    },
    {
     "name": "stderr",
     "output_type": "stream",
     "text": [
      "23/09/24 14:30:33 WARN Utils: Your hostname, Macbooks-MacBook-Pro.local resolves to a loopback address: 127.0.0.1; using 192.168.0.100 instead (on interface en0)\n",
      "23/09/24 14:30:33 WARN Utils: Set SPARK_LOCAL_IP if you need to bind to another address\n",
      "Setting default log level to \"WARN\".\n",
      "To adjust logging level use sc.setLogLevel(newLevel). For SparkR, use setLogLevel(newLevel).\n",
      "23/09/24 14:30:34 WARN NativeCodeLoader: Unable to load native-hadoop library for your platform... using builtin-java classes where applicable\n",
      "23/09/24 14:31:34 WARN package: Truncated the string representation of a plan since it was too large. This behavior can be adjusted by setting 'spark.sql.debug.maxToStringFields'.\n"
     ]
    },
    {
     "name": "stdout",
     "output_type": "stream",
     "text": [
      "+-----------------+------------+----+----------+----------+---------------+-----+--------+-----------------+--------------------+------------+----------+--------------------+----------------+-------------------+-----------+--------------------+-----+-------------+----------------+--------------+-------------+----------------+---------+-------------+-------+--------------------+----------+--------------------+-----+------------+------+------+---------+--------+--------+-----------+-------------+----------+---------+--------------------+--------------------+----------+---------------+-------+------------------+-----------+------------------+-------+-------+--------------+-------------+------+-------------------+-----------+--------------------+------------+--------------------+------+--------------------+-----------------------+------------+--------------------+---------+-------+----+\n",
      "|              vin|back_legroom| bed|bed_height|bed_length|      body_type|cabin|    city|city_fuel_economy|combine_fuel_economy|daysonmarket|dealer_zip|         description|engine_cylinders|engine_displacement|engine_type|      exterior_color|fleet|frame_damaged|franchise_dealer|franchise_make|front_legroom|fuel_tank_volume|fuel_type|has_accidents| height|highway_fuel_economy|horsepower|      interior_color|isCab|is_certified|is_cpo|is_new|is_oemcpo|latitude|  length|listed_date|listing_color|listing_id|longitude|    main_picture_url|       major_options| make_name|maximum_seating|mileage|        model_name|owner_count|             power|  price|salvage|savings_amount|seller_rating| sp_id|            sp_name|theft_title|              torque|transmission|transmission_display|trimId|           trim_name|vehicle_damage_category|wheel_system|wheel_system_display|wheelbase|  width|year|\n",
      "+-----------------+------------+----+----------+----------+---------------+-----+--------+-----------------+--------------------+------------+----------+--------------------+----------------+-------------------+-----------+--------------------+-----+-------------+----------------+--------------+-------------+----------------+---------+-------------+-------+--------------------+----------+--------------------+-----+------------+------+------+---------+--------+--------+-----------+-------------+----------+---------+--------------------+--------------------+----------+---------------+-------+------------------+-----------+------------------+-------+-------+--------------+-------------+------+-------------------+-----------+--------------------+------------+--------------------+------+--------------------+-----------------------+------------+--------------------+---------+-------+----+\n",
      "|ZACNJABB5KPJ92081|     35.1 in|null|      null|      null|SUV / Crossover| null| Bayamon|             null|                null|         522|     00960|[!@@Additional In...|              I4|             1300.0|         I4|        Solar Yellow| null|         null|            True|          Jeep|      41.2 in|        12.7 gal| Gasoline|         null|66.5 in|                null|     177.0|               Black| null|        null|  null|  True|     null| 18.3988|166.6 in| 2019-04-06|       YELLOW| 237132766| -66.1582|https://static.ca...|['Quick Order Pac...|      Jeep|        5 seats|    7.0|          Renegade|       null|177 hp @ 5,750 RPM|23141.0|   null|             0|          2.8|370599|  Flagship Chrysler|       null|200 lb-ft @ 1,750...|           A|9-Speed Automatic...|t83804|        Latitude FWD|                   null|         FWD|   Front-Wheel Drive| 101.2 in|79.6 in|2019|\n",
      "|SALCJ2FX1LH858117|     38.1 in|null|      null|      null|SUV / Crossover| null|San Juan|             null|                null|         207|     00922|[!@@Additional In...|              I4|             2000.0|         I4|        Narvik Black| null|         null|            True|    Land Rover|      39.1 in|        17.7 gal| Gasoline|         null|  68 in|                null|     246.0|       Black (Ebony)| null|        null|  null|  True|     null| 18.4439|  181 in| 2020-02-15|        BLACK| 265946296| -66.0785|https://static.ca...|['Adaptive Cruise...|Land Rover|        7 seats|    8.0|   Discovery Sport|       null|246 hp @ 5,500 RPM|46500.0|   null|             0|          3.0|389227|Land Rover San Juan|       null|269 lb-ft @ 1,400...|           A|9-Speed Automatic...|t86759|               S AWD|                   null|         AWD|     All-Wheel Drive| 107.9 in|85.6 in|2020|\n",
      "|JF1VA2M67G9829723|     35.4 in|null|      null|      null|          Sedan| null|Guaynabo|             17.0|                null|        1233|     00969|                null|              H4|             2500.0|         H4|                None|False|        False|            True|          FIAT|      43.3 in|        15.9 gal| Gasoline|        False|58.1 in|                23.0|     305.0|                None|False|        null|  null| False|     null| 18.3467|180.9 in| 2017-04-25|      UNKNOWN| 173473508| -66.1098|                null|['Alloy Wheels', ...|    Subaru|        5 seats|   null|           WRX STI|        3.0|305 hp @ 6,000 RPM|46995.0|  False|             0|         null|370467|   FIAT de San Juan|      False|290 lb-ft @ 4,000...|           M|      6-Speed Manual|t58994|                Base|                   null|         AWD|     All-Wheel Drive| 104.3 in|78.9 in|2016|\n",
      "|SALRR2RV0L2433391|     37.6 in|null|      null|      null|SUV / Crossover| null|San Juan|             null|                null|         196|     00922|[!@@Additional In...|              V6|             3000.0|         V6|          Eiger Gray| null|         null|            True|    Land Rover|        39 in|        23.5 gal| Gasoline|         null|  73 in|                null|     340.0|Gray (Ebony/Ebony...| null|        null|  null|  True|     null| 18.4439|195.1 in| 2020-02-26|         GRAY| 266911050| -66.0785|https://static.ca...|                null|Land Rover|        7 seats|   11.0|         Discovery|       null|340 hp @ 6,500 RPM|67430.0|   null|             0|          3.0|389227|Land Rover San Juan|       null|332 lb-ft @ 3,500...|           A|8-Speed Automatic...|t86074|          V6 HSE AWD|                   null|         AWD|     All-Wheel Drive|   115 in|87.4 in|2020|\n",
      "|SALCJ2FXXLH862327|     38.1 in|null|      null|      null|SUV / Crossover| null|San Juan|             null|                null|         137|     00922|[!@@Additional In...|              I4|             2000.0|         I4|        Narvik Black| null|         null|            True|    Land Rover|      39.1 in|        17.7 gal| Gasoline|         null|  68 in|                null|     246.0|       Black (Ebony)| null|        null|  null|  True|     null| 18.4439|  181 in| 2020-04-25|        BLACK| 270957414| -66.0785|https://static.ca...|['Adaptive Cruise...|Land Rover|        7 seats|    7.0|   Discovery Sport|       null|246 hp @ 5,500 RPM|48880.0|   null|             0|          3.0|389227|Land Rover San Juan|       null|269 lb-ft @ 1,400...|           A|9-Speed Automatic...|t86759|               S AWD|                   null|         AWD|     All-Wheel Drive| 107.9 in|85.6 in|2020|\n",
      "|SALYK2EX1LA261711|     37.1 in|null|      null|      null|SUV / Crossover| null|San Juan|             null|                null|         242|     00922|[!@@Additional In...|              I4|             2000.0|         I4|      Kaikoura Stone|False|        False|            True|    Land Rover|      40.2 in|        16.6 gal| Gasoline|        False|66.3 in|                null|     247.0|Brown (Ebony / Eb...|False|        null|  null|  True|     null| 18.4439|188.9 in| 2020-01-11|      UNKNOWN| 262940541| -66.0785|https://static.ca...|['Leather Seats',...|Land Rover|        5 seats|   12.0| Range Rover Velar|       null|247 hp @ 5,500 RPM|66903.0|  False|             0|          3.0|389227|Land Rover San Juan|      False|269 lb-ft @ 1,200...|           A|8-Speed Automatic...|t85614|P250 R-Dynamic S AWD|                   null|         AWD|     All-Wheel Drive| 113.1 in|84.4 in|2020|\n",
      "|3MZBPABL6KM107908|     35.1 in|null|      null|      null|          Sedan| null| Bayamon|             null|                null|         447|     00960|[!@@Additional In...|              I4|             2500.0|         I4|        SONIC SILVER| null|         null|            True|          Jeep|      42.3 in|        13.2 gal| Gasoline|         null|56.9 in|                null|     186.0|               Black| null|        null|  null|  True|     null| 18.3988|183.5 in| 2019-06-20|       SILVER| 244110426| -66.1582|https://static.ca...|['Alloy Wheels', ...|     Mazda|        5 seats|   14.0|            MAZDA3|       null|186 hp @ 6,000 RPM|23695.0|   null|             0|          2.8|370599|  Flagship Chrysler|       null|186 lb-ft @ 4,000...|           A|6-Speed Automatic...|t85256|           Sedan FWD|                   null|         FWD|   Front-Wheel Drive| 107.3 in|70.7 in|2019|\n",
      "|SALYK2EX5LA275434|     37.1 in|null|      null|      null|SUV / Crossover| null|San Juan|             null|                null|          70|     00922|[!@@Additional In...|              I4|             2000.0|         I4|          Fuji White| null|         null|            True|    Land Rover|      40.2 in|        16.6 gal| Gasoline|         null|66.3 in|                null|     247.0|White (Eclipse / ...| null|        null|  null|  True|     null| 18.4439|188.9 in| 2020-07-01|        WHITE| 275458784| -66.0785|https://static.ca...|['Adaptive Cruise...|Land Rover|        5 seats|   11.0| Range Rover Velar|       null|247 hp @ 5,500 RPM|68520.0|   null|             0|          3.0|389227|Land Rover San Juan|       null|269 lb-ft @ 1,200...|           A|8-Speed Automatic...|t85614|P250 R-Dynamic S AWD|                   null|         AWD|     All-Wheel Drive| 113.1 in|84.4 in|2020|\n",
      "|SALCJ2FX6LH858128|     38.1 in|null|      null|      null|SUV / Crossover| null|San Juan|             null|                null|         196|     00922|[!@@Additional In...|              I4|             2000.0|         I4|          Eiger Gray| null|         null|            True|    Land Rover|      39.1 in|        17.7 gal| Gasoline|         null|  68 in|                null|     246.0|       Black (Ebony)| null|        null|  null|  True|     null| 18.4439|  181 in| 2020-02-26|         GRAY| 266911040| -66.0785|https://static.ca...|['Navigation Syst...|Land Rover|        7 seats|    8.0|   Discovery Sport|       null|246 hp @ 5,500 RPM|51245.0|   null|             0|          3.0|389227|Land Rover San Juan|       null|269 lb-ft @ 1,400...|           A|9-Speed Automatic...|t86759|               S AWD|                   null|         AWD|     All-Wheel Drive| 107.9 in|85.6 in|2020|\n",
      "|SALZL2GX4LH007593|     33.8 in|null|      null|      null|SUV / Crossover| null|San Juan|             null|                null|         510|     00922|[!@@Additional In...|              I4|             2000.0|         I4|              Blanco|False|        False|            True|    Land Rover|        40 in|        17.7 gal| Gasoline|        False|64.9 in|                null|     296.0|       Eclipse/Ebony|False|        null|  null| False|     null| 18.4439|172.1 in| 2019-04-18|        WHITE| 238225156| -66.0785|https://static.ca...|['Leather Seats',...|Land Rover|        5 seats|  254.0|Range Rover Evoque|       null|296 hp @ 5,500 RPM|84399.0|  False|             0|          3.0|389227|Land Rover San Juan|      False|295 lb-ft @ 1,600...|           A|9-Speed Automatic...|t85531|P300 R-Dynamic SE...|                   null|         AWD|     All-Wheel Drive| 105.6 in|82.7 in|2020|\n",
      "|ZARBAAC41FM129303|          --|null|      null|      null|          Coupe| null|Guaynabo|             null|                null|        1252|     00969|[!@@Additional In...|              I4|             1700.0|         I4|                 Red|False|        False|            True|          FIAT|      42.7 in|        10.5 gal| Gasoline|        False|46.6 in|                null|     237.0|                None|False|        null|  null| False|     null| 18.3467|157.5 in| 2017-04-06|          RED| 171865107| -66.1098|https://static.ca...|   ['Leather Seats']|Alfa Romeo|        2 seats|  301.0|                4C|        2.0|237 hp @ 6,000 RPM|97579.0|  False|             0|         null|370467|   FIAT de San Juan|      False|258 lb-ft @ 4,250...|           A|   6-Speed Automatic|t56834|Launch Edition Co...|                   null|         RWD|    Rear-Wheel Drive|  93.7 in|73.5 in|2015|\n",
      "|SALZJ2FX0LH081763|     33.8 in|null|      null|      null|SUV / Crossover| null|San Juan|             null|                null|         179|     00922|[!@@Additional In...|              I4|             2000.0|         I4|        Narvik Black| null|         null|            True|    Land Rover|        40 in|        17.7 gal| Gasoline|         null|64.9 in|                null|     246.0|       Black (Ebony)| null|        null|  null|  True|     null| 18.4439|172.1 in| 2020-03-14|        BLACK| 268609420| -66.0785|https://static.ca...|['Convenience Pac...|Land Rover|        5 seats|   22.0|Range Rover Evoque|       null|246 hp @ 5,500 RPM|51885.0|   null|             0|          3.0|389227|Land Rover San Juan|       null|269 lb-ft @ 1,400...|           A|9-Speed Automatic...|t85529|          P250 S AWD|                   null|         AWD|     All-Wheel Drive| 105.6 in|82.7 in|2020|\n",
      "|WBA8B7C53GK368522|     35.1 in|null|      null|      null|          Sedan| null|Guaynabo|             22.0|                null|        1233|     00969|[!@@Additional In...|              I6|             3000.0|         I6|              Silver|False|        False|            True|          FIAT|        42 in|        15.8 gal| Gasoline|        False|56.5 in|                33.0|     320.0|                None|False|        null|  null| False|     null| 18.3467|182.5 in| 2017-04-25|       SILVER| 173473505| -66.1098|https://static.ca...|['Sunroof/Moonroo...|       BMW|        5 seats| 6903.0|          3 Series|        2.0|320 hp @ 5,500 RPM|58995.0|  False|             0|         null|370467|   FIAT de San Juan|      False|330 lb-ft @ 1,380...|           A|   8-Speed Automatic|t58802|340i xDrive Sedan...|                   null|         AWD|     All-Wheel Drive| 110.6 in|  80 in|2016|\n",
      "|SALYK2EX8LA268316|     37.1 in|null|      null|      null|SUV / Crossover| null|San Juan|             null|                null|         201|     00922|[!@@Additional In...|              I4|             2000.0|         I4|       Aruba Premium| null|         null|            True|    Land Rover|      40.2 in|        16.6 gal| Gasoline|         null|66.3 in|                null|     247.0|Gray (Ebony / Ebony)| null|        null|  null|  True|     null| 18.4439|188.9 in| 2020-02-21|      UNKNOWN| 266454434| -66.0785|https://static.ca...|['Adaptive Cruise...|Land Rover|        5 seats|   20.0| Range Rover Velar|       null|247 hp @ 5,500 RPM|68725.0|   null|             0|          3.0|389227|Land Rover San Juan|       null|269 lb-ft @ 1,200...|           A|8-Speed Automatic...|t85614|P250 R-Dynamic S AWD|                   null|         AWD|     All-Wheel Drive| 113.1 in|84.4 in|2020|\n",
      "|3MZBPABL1KM108237|     35.1 in|null|      null|      null|          Sedan| null| Bayamon|             null|                null|         447|     00960|[!@@Additional In...|              I4|             2500.0|         I4|Snowflake White P...| null|         null|            True|          Jeep|      42.3 in|        13.2 gal| Gasoline|         null|56.9 in|                null|     186.0|               Black| null|        null|  null|  True|     null| 18.3988|183.5 in| 2019-06-20|        WHITE| 244110428| -66.1582|https://static.ca...|['Alloy Wheels', ...|     Mazda|        5 seats|  204.0|            MAZDA3|       null|186 hp @ 6,000 RPM|23695.0|   null|             0|          2.8|370599|  Flagship Chrysler|       null|186 lb-ft @ 4,000...|           A|6-Speed Automatic...|t85256|           Sedan FWD|                   null|         FWD|   Front-Wheel Drive| 107.3 in|70.7 in|2019|\n",
      "|3MZBPABL4KM107969|     35.1 in|null|      null|      null|          Sedan| null| Bayamon|             null|                null|         447|     00960|[!@@Additional In...|              I4|             2500.0|         I4|Snowflake White P...| null|         null|            True|          Jeep|      42.3 in|        13.2 gal| Gasoline|         null|56.9 in|                null|     186.0|               Black| null|        null|  null|  True|     null| 18.3988|183.5 in| 2019-06-20|        WHITE| 244110438| -66.1582|https://static.ca...|['Alloy Wheels', ...|     Mazda|        5 seats|   61.0|            MAZDA3|       null|186 hp @ 6,000 RPM|23695.0|   null|             0|          2.8|370599|  Flagship Chrysler|       null|186 lb-ft @ 4,000...|           A|6-Speed Automatic...|t85256|           Sedan FWD|                   null|         FWD|   Front-Wheel Drive| 107.3 in|70.7 in|2019|\n",
      "|SALCP2FX9LH857747|     38.1 in|null|      null|      null|SUV / Crossover| null|San Juan|             null|                null|         187|     00922|[!@@Additional In...|              I4|             2000.0|         I4|         Firenze Red| null|         null|            True|    Land Rover|      39.1 in|        17.7 gal| Gasoline|         null|  68 in|                null|     246.0|       Black (Ebony)| null|        null|  null|  True|     null| 18.4439|  181 in| 2020-03-06|          RED| 267851174| -66.0785|https://static.ca...|['Navigation Syst...|Land Rover|        7 seats|    6.0|   Discovery Sport|       null|246 hp @ 5,500 RPM|52275.0|   null|             0|          3.0|389227|Land Rover San Juan|       null|269 lb-ft @ 1,400...|           A|9-Speed Automatic...|t86761|              SE AWD|                   null|         AWD|     All-Wheel Drive| 107.9 in|85.6 in|2020|\n",
      "|SALYK2EX8LA284533|     37.1 in|null|      null|      null|SUV / Crossover| null|San Juan|             null|                null|          20|     00922|[!@@Additional In...|              I4|             2000.0|         I4|         Firenze Red| null|         null|            True|    Land Rover|      40.2 in|        16.6 gal| Gasoline|         null|66.3 in|                null|     247.0| Red (Ebony / Ebony)| null|        null|  null|  True|     null| 18.4439|188.9 in| 2020-08-20|          RED| 279794909| -66.0785|https://static.ca...|['Adaptive Cruise...|Land Rover|        5 seats|    7.0| Range Rover Velar|       null|247 hp @ 5,500 RPM|68760.0|   null|             0|          3.0|389227|Land Rover San Juan|       null|269 lb-ft @ 1,200...|           A|8-Speed Automatic...|t85614|P250 R-Dynamic S AWD|                   null|         AWD|     All-Wheel Drive| 113.1 in|84.4 in|2020|\n",
      "|SALYK2EX0LA284669|     37.1 in|null|      null|      null|SUV / Crossover| null|San Juan|             null|                null|          13|     00922|[!@@Additional In...|              I4|             2000.0|         I4|      Kaikoura Stone| null|         null|            True|    Land Rover|      40.2 in|        16.6 gal| Gasoline|         null|66.3 in|                null|     247.0|Brown (Ebony / Eb...| null|        null|  null|  True|     null| 18.4439|188.9 in| 2020-08-27|      UNKNOWN| 280451806| -66.0785|https://static.ca...|['Adaptive Cruise...|Land Rover|        5 seats|    5.0| Range Rover Velar|       null|247 hp @ 5,500 RPM|68760.0|   null|             0|          3.0|389227|Land Rover San Juan|       null|269 lb-ft @ 1,200...|           A|8-Speed Automatic...|t85614|P250 R-Dynamic S AWD|                   null|         AWD|     All-Wheel Drive| 113.1 in|84.4 in|2020|\n",
      "|SALCP2FX8LH854709|     38.1 in|null|      null|      null|SUV / Crossover| null|San Juan|             null|                null|         230|     00922|[!@@Additional In...|              I4|             2000.0|         I4|     Santorini Black| null|         null|            True|    Land Rover|      39.1 in|        17.7 gal| Gasoline|         null|  68 in|                null|     246.0|       Black (Ebony)| null|        null|  null|  True|     null| 18.4439|  181 in| 2020-01-23|        BLACK| 263868330| -66.0785|https://static.ca...|['Navigation Syst...|Land Rover|        7 seats|    8.0|   Discovery Sport|       null|246 hp @ 5,500 RPM|53770.0|   null|             0|          3.0|389227|Land Rover San Juan|       null|269 lb-ft @ 1,400...|           A|9-Speed Automatic...|t86761|              SE AWD|                   null|         AWD|     All-Wheel Drive| 107.9 in|85.6 in|2020|\n",
      "+-----------------+------------+----+----------+----------+---------------+-----+--------+-----------------+--------------------+------------+----------+--------------------+----------------+-------------------+-----------+--------------------+-----+-------------+----------------+--------------+-------------+----------------+---------+-------------+-------+--------------------+----------+--------------------+-----+------------+------+------+---------+--------+--------+-----------+-------------+----------+---------+--------------------+--------------------+----------+---------------+-------+------------------+-----------+------------------+-------+-------+--------------+-------------+------+-------------------+-----------+--------------------+------------+--------------------+------+--------------------+-----------------------+------------+--------------------+---------+-------+----+\n",
      "only showing top 20 rows\n",
      "\n",
      "[2023-09-24 14:31:37,046: 49: us_used_cars_ml_pipeline_logger: INFO: 4090757948:  >>>>>> Stage Data Ingestion State completed <<<<<< \n",
      "\n",
      "x==========x]\n"
     ]
    }
   ],
   "source": [
    "from pyspark.sql import SparkSession\n",
    "from us_used_cars_ml_pipeline.config.configuration import ConfigurationManager\n",
    "from us_used_cars_ml_pipeline.components.data_ingestion import DataIngestion\n",
    "from us_used_cars_ml_pipeline import logger\n",
    "from us_used_cars_ml_pipeline.utils.common import get_spark_session\n",
    "\n",
    "\n",
    "class DataIngestionTrainingPipeline:\n",
    "    \"\"\"\n",
    "    This pipeline is responsible for orchestrating the data ingestion process \n",
    "    for training. It initializes necessary configurations, reads data from HDFS, \n",
    "    and ensures a smooth flow of the data ingestion stage.\n",
    "    \"\"\"\n",
    "    \n",
    "    STAGE_NAME = \"Data Ingestion State\"\n",
    "\n",
    "    def __init__(self):\n",
    "        self.config_manager = ConfigurationManager()\n",
    "\n",
    "    def initialize_spark_session(self) -> SparkSession:\n",
    "        \"\"\"Initialize and return a Spark session.\"\"\"\n",
    "        return get_spark_session()\n",
    "\n",
    "    def run_data_ingestion(self):\n",
    "        \"\"\"\n",
    "        Main method to run the data ingestion process.\n",
    "        \"\"\"\n",
    "        try:\n",
    "            logger.info(\"Fetching data ingestion configuration...\")\n",
    "            data_ingestion_config = self.config_manager.get_data_ingestion_config()\n",
    "            \n",
    "            logger.info(\"Initializing data ingestion process...\")\n",
    "            data_ingestion = DataIngestion(config=data_ingestion_config)\n",
    "            \n",
    "            logger.info(\"Reading data file...\")\n",
    "            spark = self.initialize_spark_session()\n",
    "            data_ingestion.read_data_from_hdfs(spark)\n",
    "        except Exception as e:\n",
    "            logger.exception(\"An error occurred during the data ingestion process.\")\n",
    "            raise e\n",
    "\n",
    "    def run_pipeline(self):\n",
    "        \"\"\"\n",
    "        Run the data ingestion training pipeline.\n",
    "        \"\"\"\n",
    "        try:\n",
    "            logger.info(f\">>>>>> Stage: {DataIngestionTrainingPipeline.STAGE_NAME} started <<<<<<\")\n",
    "            self.run_data_ingestion()\n",
    "            logger.info(f\">>>>>> Stage {DataIngestionTrainingPipeline.STAGE_NAME} completed <<<<<< \\n\\nx==========x\")\n",
    "        except Exception as e:\n",
    "            # No need to log the exception here since it's already logged in the run_data_ingestion method.\n",
    "            raise e\n",
    "\n",
    "if __name__ == '__main__':\n",
    "    pipeline = DataIngestionTrainingPipeline()\n",
    "    pipeline.run_pipeline()\n"
   ]
  },
  {
   "cell_type": "code",
   "execution_count": null,
   "metadata": {},
   "outputs": [],
   "source": []
  }
 ],
 "metadata": {
  "kernelspec": {
   "display_name": "us_used_cars_ml_pipeline_env",
   "language": "python",
   "name": "python3"
  },
  "language_info": {
   "codemirror_mode": {
    "name": "ipython",
    "version": 3
   },
   "file_extension": ".py",
   "mimetype": "text/x-python",
   "name": "python",
   "nbconvert_exporter": "python",
   "pygments_lexer": "ipython3",
   "version": "3.8.18"
  },
  "orig_nbformat": 4
 },
 "nbformat": 4,
 "nbformat_minor": 2
}
